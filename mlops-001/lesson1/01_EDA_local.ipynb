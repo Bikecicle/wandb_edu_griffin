{
 "cells": [
  {
   "cell_type": "markdown",
   "id": "f719a279",
   "metadata": {
    "id": "69QtSdjo_UDL"
   },
   "source": [
    "<a href=\"https://colab.research.google.com/github/wandb/edu/blob/main/mlops-001/lesson1/01_EDA.ipynb\" target=\"_parent\"><img src=\"https://colab.research.google.com/assets/colab-badge.svg\" alt=\"Open In Colab\"/></a>\n",
    "<!--- @wandbcode{course-lesson1} -->"
   ]
  },
  {
   "cell_type": "markdown",
   "id": "5b3ef4fa",
   "metadata": {
    "id": "a212966e-8f38-4b4a-8e00-2985120439ca"
   },
   "source": [
    "# EDA \n",
    "<!--- @wandbcode{course-lesson1} -->\n",
    "\n",
    "In this notebook, we will download a sample of the [BDD100K](https://www.bdd100k.com/) semantic segmentation dataset and use W&B Artifacts and Tables to version and analyze our data. "
   ]
  },
  {
   "cell_type": "code",
   "execution_count": 1,
   "id": "5105dc5b",
   "metadata": {
    "executionInfo": {
     "elapsed": 242,
     "status": "ok",
     "timestamp": 1676579543242,
     "user": {
      "displayName": "Griffin Page",
      "userId": "01676552927008605840"
     },
     "user_tz": 300
    },
    "id": "17490b58-a8f2-489e-9c71-ca0e078591dc"
   },
   "outputs": [],
   "source": [
    "DEBUG = False # set this flag to True to use a small subset of data for testing"
   ]
  },
  {
   "cell_type": "markdown",
   "id": "53e9fdc2",
   "metadata": {
    "id": "055764da-7252-4796-86af-585007dea288"
   },
   "source": [
    "We have defined some global configuration parameters in the `params.py` file. `ENTITY` should correspond to your W&B Team name if you work in a team, replace it with `None` if you work individually. "
   ]
  },
  {
   "cell_type": "code",
   "execution_count": 1,
   "id": "90ebe48c",
   "metadata": {
    "colab": {
     "base_uri": "https://localhost:8080/"
    },
    "executionInfo": {
     "elapsed": 381,
     "status": "ok",
     "timestamp": 1676579362416,
     "user": {
      "displayName": "Griffin Page",
      "userId": "01676552927008605840"
     },
     "user_tz": 300
    },
    "id": "yi8NXdRkj18J",
    "outputId": "0339e644-3b29-40b4-f3b9-990b933b1de7"
   },
   "outputs": [
    {
     "name": "stderr",
     "output_type": "stream",
     "text": [
      "Failed to detect the name of this notebook, you can set it manually with the WANDB_NOTEBOOK_NAME environment variable to enable code saving.\n",
      "\u001b[34m\u001b[1mwandb\u001b[0m: Currently logged in as: \u001b[33mgcpage\u001b[0m. Use \u001b[1m`wandb login --relogin`\u001b[0m to force relogin\n"
     ]
    },
    {
     "data": {
      "text/plain": [
       "True"
      ]
     },
     "execution_count": 1,
     "metadata": {},
     "output_type": "execute_result"
    }
   ],
   "source": [
    "import numpy as np\n",
    "import csv\n",
    "import os\n",
    "import json\n",
    "\n",
    "from pathlib import Path\n",
    "from tqdm import tqdm\n",
    "\n",
    "import params\n",
    "import wandb\n",
    "wandb.login()"
   ]
  },
  {
   "cell_type": "code",
   "execution_count": 2,
   "id": "e1631595",
   "metadata": {
    "colab": {
     "base_uri": "https://localhost:8080/"
    },
    "executionInfo": {
     "elapsed": 1597,
     "status": "ok",
     "timestamp": 1676581534784,
     "user": {
      "displayName": "Griffin Page",
      "userId": "01676552927008605840"
     },
     "user_tz": 300
    },
    "id": "6df5b830-e685-4a0d-81e8-6dda10697dff",
    "outputId": "e0233849-c3dd-45c7-cba3-a5257fc0fc2a"
   },
   "outputs": [],
   "source": [
    "path = Path('C:/Users/Griffin/Documents/datasets/nsynth/nsynth-valid')\n",
    "with open(path/'examples.json') as f:\n",
    "    examples = json.load(f)"
   ]
  },
  {
   "cell_type": "markdown",
   "id": "7e05b8f7",
   "metadata": {
    "id": "db6708ae-abaa-432f-83b0-028a99222096"
   },
   "source": [
    "Here we define several functions to help us process the data and upload it as a `Table` to W&B. "
   ]
  },
  {
   "cell_type": "code",
   "execution_count": 9,
   "id": "ed302692",
   "metadata": {
    "executionInfo": {
     "elapsed": 693,
     "status": "ok",
     "timestamp": 1676582525566,
     "user": {
      "displayName": "Griffin Page",
      "userId": "01676552927008605840"
     },
     "user_tz": 300
    },
    "id": "5779f980-4d9b-4645-9726-642a25334e10"
   },
   "outputs": [],
   "source": [
    "def _create_table(audio_dir):\n",
    "    \"Create a table with the dataset\"\n",
    "    table = wandb.Table(columns=[\"File_Name\",\n",
    "                                 \"Audio\",\n",
    "                                 \"Instrument_Family\",\n",
    "                                 \"Instrument_Source\"])\n",
    "    for audio_file in tqdm(audio_dir.iterdir()):\n",
    "        table.add_data(audio_file.stem,\n",
    "                       wandb.Audio(str(audio_file)),\n",
    "                       examples[audio_file.stem]['instrument_family'],\n",
    "                       examples[audio_file.stem]['instrument_source'])\n",
    "    return table"
   ]
  },
  {
   "cell_type": "markdown",
   "id": "7d90296b",
   "metadata": {
    "id": "eac085cd-2409-4baf-a887-108e3dca65b9"
   },
   "source": [
    "We will start a new W&B `run` and put everything into a raw Artifact."
   ]
  },
  {
   "cell_type": "code",
   "execution_count": 4,
   "id": "592578ff",
   "metadata": {
    "colab": {
     "base_uri": "https://localhost:8080/",
     "height": 104
    },
    "executionInfo": {
     "elapsed": 5096,
     "status": "ok",
     "timestamp": 1676582570082,
     "user": {
      "displayName": "Griffin Page",
      "userId": "01676552927008605840"
     },
     "user_tz": 300
    },
    "id": "e87141b3-b9b7-4a40-839c-64c835484f48",
    "outputId": "5e14bcc6-206d-4bb4-f7d8-f06cffcb5b01"
   },
   "outputs": [
    {
     "data": {
      "text/html": [
       "wandb version 0.15.0 is available!  To upgrade, please run:\n",
       " $ pip install wandb --upgrade"
      ],
      "text/plain": [
       "<IPython.core.display.HTML object>"
      ]
     },
     "metadata": {},
     "output_type": "display_data"
    },
    {
     "data": {
      "text/html": [
       "Tracking run with wandb version 0.13.10"
      ],
      "text/plain": [
       "<IPython.core.display.HTML object>"
      ]
     },
     "metadata": {},
     "output_type": "display_data"
    },
    {
     "data": {
      "text/html": [
       "Run data is saved locally in <code>C:\\Users\\Griffin\\Documents\\GitHub\\wandb-edu\\mlops-001\\lesson1\\wandb\\run-20230421_141618-0ziz59pt</code>"
      ],
      "text/plain": [
       "<IPython.core.display.HTML object>"
      ]
     },
     "metadata": {},
     "output_type": "display_data"
    },
    {
     "data": {
      "text/html": [
       "Syncing run <strong><a href='https://wandb.ai/gcpage/mlops-course-001/runs/0ziz59pt' target=\"_blank\">swept-durian-1</a></strong> to <a href='https://wandb.ai/gcpage/mlops-course-001' target=\"_blank\">Weights & Biases</a> (<a href='https://wandb.me/run' target=\"_blank\">docs</a>)<br/>"
      ],
      "text/plain": [
       "<IPython.core.display.HTML object>"
      ]
     },
     "metadata": {},
     "output_type": "display_data"
    },
    {
     "data": {
      "text/html": [
       " View project at <a href='https://wandb.ai/gcpage/mlops-course-001' target=\"_blank\">https://wandb.ai/gcpage/mlops-course-001</a>"
      ],
      "text/plain": [
       "<IPython.core.display.HTML object>"
      ]
     },
     "metadata": {},
     "output_type": "display_data"
    },
    {
     "data": {
      "text/html": [
       " View run at <a href='https://wandb.ai/gcpage/mlops-course-001/runs/0ziz59pt' target=\"_blank\">https://wandb.ai/gcpage/mlops-course-001/runs/0ziz59pt</a>"
      ],
      "text/plain": [
       "<IPython.core.display.HTML object>"
      ]
     },
     "metadata": {},
     "output_type": "display_data"
    }
   ],
   "source": [
    "run = wandb.init(project=params.WANDB_PROJECT, entity=params.ENTITY, job_type=\"upload\")\n",
    "raw_data_at = wandb.Artifact(params.RAW_DATA_AT, type=\"raw_data\")"
   ]
  },
  {
   "cell_type": "markdown",
   "id": "1d3f2064",
   "metadata": {
    "id": "10addc71-201d-4c29-af23-9a5d9a5cbddf"
   },
   "source": [
    "Let's add the images and label masks."
   ]
  },
  {
   "cell_type": "code",
   "execution_count": 5,
   "id": "51ff88a6",
   "metadata": {
    "colab": {
     "base_uri": "https://localhost:8080/"
    },
    "id": "e2e29a83-ec60-4518-8b73-078f1719bc8f",
    "outputId": "123795aa-eb70-42ab-c76a-9383641e995a"
   },
   "outputs": [
    {
     "name": "stderr",
     "output_type": "stream",
     "text": [
      "\u001b[34m\u001b[1mwandb\u001b[0m: Adding directory to artifact (C:\\Users\\Griffin\\Documents\\datasets\\nsynth\\nsynth-valid\\audio)... Done. 173.7s\n"
     ]
    },
    {
     "data": {
      "text/plain": [
       "ArtifactManifestEntry(path='examples_valid', digest='O4e9ze9DpUjSAWEOVVfJ5A==', ref=None, birth_artifact_id=None, size=8838509, extra={}, local_path='C:\\\\Users\\\\Griffin\\\\AppData\\\\Local\\\\wandb\\\\wandb\\\\artifacts\\\\staging\\\\tmp8t_qrctn')"
      ]
     },
     "execution_count": 5,
     "metadata": {},
     "output_type": "execute_result"
    }
   ],
   "source": [
    "raw_data_at.add_dir(path/'audio', name='audio_valid')\n",
    "raw_data_at.add_file(path/'examples.json', name='examples_valid')"
   ]
  },
  {
   "cell_type": "markdown",
   "id": "a668eeaa",
   "metadata": {
    "id": "01b989eb-36da-4194-9a34-88126749f210"
   },
   "source": [
    "Let's get the file names of images in our dataset and use the function we defined above to create a W&B Table. "
   ]
  },
  {
   "cell_type": "code",
   "execution_count": 10,
   "id": "bd9b04cb",
   "metadata": {
    "id": "451ff088-4cb3-4739-b4e8-308d03645ffe"
   },
   "outputs": [
    {
     "name": "stderr",
     "output_type": "stream",
     "text": [
      "12678it [00:07, 1709.34it/s]\n"
     ]
    }
   ],
   "source": [
    "table = _create_table(path/'audio')"
   ]
  },
  {
   "cell_type": "markdown",
   "id": "d969ca35",
   "metadata": {
    "id": "ff73cd37-6a72-44f7-a5cf-6abe7d327092"
   },
   "source": [
    "Finally, we will add the Table to our Artifact, log it to W&B and finish our `run`. "
   ]
  },
  {
   "cell_type": "code",
   "execution_count": 11,
   "id": "22fc7c29",
   "metadata": {
    "id": "d4183e9c-75e4-48a8-a2e1-0f4492c0b5d0"
   },
   "outputs": [
    {
     "data": {
      "text/plain": [
       "ArtifactManifestEntry(path='eda_table.table.json', digest='e994ycZesQoGW90eIy45sg==', ref=None, birth_artifact_id=None, size=2727565, extra={}, local_path='C:\\\\Users\\\\Griffin\\\\AppData\\\\Local\\\\wandb\\\\wandb\\\\artifacts\\\\staging\\\\tmplpib_6gj')"
      ]
     },
     "execution_count": 11,
     "metadata": {},
     "output_type": "execute_result"
    }
   ],
   "source": [
    "raw_data_at.add(table, \"eda_table\")"
   ]
  },
  {
   "cell_type": "code",
   "execution_count": 12,
   "id": "35b468d6",
   "metadata": {
    "id": "e81ed9c8-6905-4841-a9f7-e3f3b9b6d927"
   },
   "outputs": [
    {
     "data": {
      "text/html": [
       "Waiting for W&B process to finish... <strong style=\"color:green\">(success).</strong>"
      ],
      "text/plain": [
       "<IPython.core.display.HTML object>"
      ]
     },
     "metadata": {},
     "output_type": "display_data"
    },
    {
     "data": {
      "text/html": [
       " View run <strong style=\"color:#cdcd00\">swept-durian-1</strong> at: <a href='https://wandb.ai/gcpage/mlops-course-001/runs/0ziz59pt' target=\"_blank\">https://wandb.ai/gcpage/mlops-course-001/runs/0ziz59pt</a><br/>Synced 6 W&B file(s), 0 media file(s), 12680 artifact file(s) and 0 other file(s)"
      ],
      "text/plain": [
       "<IPython.core.display.HTML object>"
      ]
     },
     "metadata": {},
     "output_type": "display_data"
    },
    {
     "data": {
      "text/html": [
       "Find logs at: <code>.\\wandb\\run-20230421_141618-0ziz59pt\\logs</code>"
      ],
      "text/plain": [
       "<IPython.core.display.HTML object>"
      ]
     },
     "metadata": {},
     "output_type": "display_data"
    }
   ],
   "source": [
    "run.log_artifact(raw_data_at)\n",
    "run.finish()"
   ]
  }
 ],
 "metadata": {
  "colab": {
   "provenance": []
  },
  "kernelspec": {
   "display_name": "Python 3 (ipykernel)",
   "language": "python",
   "name": "python3"
  },
  "language_info": {
   "codemirror_mode": {
    "name": "ipython",
    "version": 3
   },
   "file_extension": ".py",
   "mimetype": "text/x-python",
   "name": "python",
   "nbconvert_exporter": "python",
   "pygments_lexer": "ipython3",
   "version": "3.9.16"
  }
 },
 "nbformat": 4,
 "nbformat_minor": 5
}
